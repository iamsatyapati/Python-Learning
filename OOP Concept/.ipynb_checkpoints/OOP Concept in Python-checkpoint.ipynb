{
 "cells": [
  {
   "cell_type": "markdown",
   "metadata": {},
   "source": [
    "# OOP Concept in Python\n",
    "\n",
    "#### What is OOP\n",
    "\n",
    "In procedural programming we code as sequence of steps. Procedural programming is great for data analysis and scripting.\n",
    "In Object Oriented concept code as interactions of object. It is great for buidling frameworks and tools. It make the code more organizable and maintainable. The OOP concept is about objects and classes. Class is a blueprint on which a object is created. Classes has logical existence. Object is the instance of the class, it has physical existence. An object incorporate about state and behaviour. For example if a customer is a object then state(attribute) might be phone number and email id and behaviour(methods) might be place order or cancel order.\n",
    "\n",
    "The state and behaviour bundled together in a class, the tendency is called **Encapsulation**. Classes defines the possible states and behaviours that the object of the class can have. In python everything is a object and every object has a class. The class can be founded by type method. State and behaviours are contained in attribute and methods respectively. \n",
    "\n",
    "Creating a class:\n",
    " \n",
    "             class ClassName:\n",
    "             # we can create empty class with pass statement after class name. And object of the empty class can be\n",
    "                 created\n",
    "                 \n",
    "                 # pass \n",
    "                 \n",
    "                 # method is a function within the class with 'self' as it's first argument.\n",
    "                 \n",
    "                 def doSomething(self):\n",
    "                     pass\n",
    "                    \n",
    "A attribute can be accessed by objectname.attribute and a method can also be accessed with obj.method(\\*args). Self represents the particular object. It stands for the object referred in a class defination to access that objects properties. obj.method() is equivalent to pass the object to the method. Attributes are variables assigned with objects. \n",
    "\n",
    "Constructor allows the object to take variables while created. In python the constructor name must be \\_\\_init\\_\\_(), it takes all variabes and assign it to the object while created. It is called automatically, everytime an object is created. We can also set default values. Avoid to create attributes outside the constructor. \n",
    "\n",
    "Make your class name in CamelCase. Method names should be separated by \\_ and should be all small, better to be verb. Use docstring both in classes and also in methods.\n",
    "\n",
    "**Instance label data vs Class label data **\n",
    "\n",
    "Instance attributes are for the objects. It is stored in instance variables, which is initiated in \\_\\_inti\\_\\_() method.\n",
    "\n",
    "Class attributes are outside of the \\_\\_init\\_\\_ method. Which is common for all instances. Class attribute is like a global variable of the class. It is accesible with class names like : classname.Variable . It is more likely to be a global constant for the class. Methods are shared among instances. We also can also define a class label method, but it can't access the instance label data. To define a class method we have to start with class method decorator (@classmethod). The first argument is not self, but cls. To call a class method classname.method(\\*arg). As there are only one constructor. The class method can also be used to create objects os the class.\n",
    "\n",
    "        @classmethod\n",
    "        def classmethodname(cls,file):\n",
    "            return cls(file)\n",
    "            \n",
    "obj = classname.classmethodname(\\*arg)\n",
    "\n",
    "**Inheritance**\n",
    "\n",
    "It is fundamentally important for code reuse. Class inheritance is about to inheriting a parent class and adding some modifications to it. \n",
    "\n",
    "            class Child(Parent):\n",
    "                pass\n",
    "                \n",
    "Child class can use all attributes and methods from parent class. isinstance(child) should return Parent. "
   ]
  },
  {
   "cell_type": "code",
   "execution_count": null,
   "metadata": {},
   "outputs": [],
   "source": []
  }
 ],
 "metadata": {
  "kernelspec": {
   "display_name": "Python 3",
   "language": "python",
   "name": "python3"
  },
  "language_info": {
   "codemirror_mode": {
    "name": "ipython",
    "version": 3
   },
   "file_extension": ".py",
   "mimetype": "text/x-python",
   "name": "python",
   "nbconvert_exporter": "python",
   "pygments_lexer": "ipython3",
   "version": "3.7.4"
  }
 },
 "nbformat": 4,
 "nbformat_minor": 2
}
