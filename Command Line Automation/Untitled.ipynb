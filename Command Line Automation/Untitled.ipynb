{
 "cells": [
  {
   "cell_type": "markdown",
   "metadata": {},
   "source": [
    "# Automation With Python\n",
    "\n",
    "3 laws of automation:\n",
    "1. Any task that is talked about being automated , will eventually be automated.\n",
    "2. If it isn't automated, it is broken.\n",
    "3. If a human is doing it, a machine eventually doing it better.\n",
    "\n",
    "### Using shell command in IPython notebook\n",
    "\n",
    "!command : To run shell commands. It doesn't work in python script.<br>\n",
    "We can also store the command output in a python variable. The special type of variable is called as SList. (IPython.utils.text.SList).<br>\n",
    "To run a python script in IPython notebook => !python3 -c \"script\"<br>\n",
    "\n",
    "**Unix philosophy** states that the OS should provide somple tools, which can be combined to create sophisticated solutions."
   ]
  },
  {
   "cell_type": "code",
   "execution_count": null,
   "metadata": {},
   "outputs": [],
   "source": []
  }
 ],
 "metadata": {
  "kernelspec": {
   "display_name": "Python 3",
   "language": "python",
   "name": "python3"
  },
  "language_info": {
   "codemirror_mode": {
    "name": "ipython",
    "version": 3
   },
   "file_extension": ".py",
   "mimetype": "text/x-python",
   "name": "python",
   "nbconvert_exporter": "python",
   "pygments_lexer": "ipython3",
   "version": "3.7.4"
  }
 },
 "nbformat": 4,
 "nbformat_minor": 2
}
